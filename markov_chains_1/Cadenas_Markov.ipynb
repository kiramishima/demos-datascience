{
 "cells": [
  {
   "cell_type": "markdown",
   "metadata": {},
   "source": [
    "# Cadenas de Markov en Python"
   ]
  },
  {
   "cell_type": "markdown",
   "metadata": {},
   "source": [
    "$ Pr( X_{n+1} = x | X_1 = x_1, X_2 = x_2, …, X_n = x_n) = Pr( X_{n+1} = x | X_n = x_n) $\n",
    "\n",
    "- El conjunto de sucesos posibles es finito\n",
    "- La probabilidad de ocurrencia del siguiente suceso depende solamente del suceso inmediatamente anterior.\n",
    "- Estas probabilidades permanecen constantes con el tiempo.\n",
    "\n",
    "\n",
    "Por la regla de la cadena de la probabilidad, podemos representarla sobre $ T $ variables como sigue:\n",
    "\n",
    "$$\n",
    "p(y_1:T) = p(y_1)p(y_2|y_1)p(y_3|y_2,y_1)p(y_4|y_3,y_2,y_1)...\\prod_{t=1}^{T} p(y_t|y_1:t-1)\n",
    "$$\n",
    "\n",
    "Tambien son conocidas como modelo de Markov ó modelo autoregresivo.\n",
    "Entre sus aplicaciones se encuentran los **LM** (Language Models)"
   ]
  },
  {
   "cell_type": "markdown",
   "metadata": {},
   "source": [
    "## Propiedades importantes\n",
    "\n",
    "- Reducibilidad\n",
    "- Periodicidad\n",
    "- Transitoriedad y recurrencia\n",
    "- Ergodicidad\n",
    "- Estado absorbente"
   ]
  },
  {
   "cell_type": "markdown",
   "metadata": {},
   "source": [
    "## Datos de vital importancia\n",
    "\n",
    "Representamos la información de los estados del tiempo $ n $ al tiempo $ n + 1 $ usando la matriz de transiccón.\n",
    "\n",
    "Si la cadena de markov tiene N posibles estados, la matriz sera una de $ N x N $, tal que la entrada (**I**, **J**) es la probabilidad de pasar del estado **I** al estado **J**. \n",
    "\n",
    "Además la matriz de transicción debe ser estocástica, es decir que la suma de cada fila debe de dar 1."
   ]
  },
  {
   "cell_type": "markdown",
   "metadata": {},
   "source": [
    "## Manos a la obra\n",
    "\n",
    "![alt](https://media.tenor.com/N-nifFitc54AAAAd/los-increibles-mr-incredible.gif)"
   ]
  },
  {
   "cell_type": "code",
   "execution_count": null,
   "metadata": {},
   "outputs": [],
   "source": [
    "# Importar las librerias\n",
    "\n",
    "import numpy as np\n",
    "import random as rm\n",
    "import pandas as pd"
   ]
  },
  {
   "cell_type": "markdown",
   "metadata": {},
   "source": [
    "### Ejemplo 1\n",
    "\n",
    "Cuando Zura está triste, lo cual no es muy habitual: sale a correr, come helado o se echa una siesta.\n",
    "\n",
    "Según datos históricos, si ella pasó durmiendo en un día triste. Al día siguiente, hay un 60% de probabilidad de que salga a correr, un 20% de probabilidad de que se quede en la cama al día siguiente y un 20% de probabilidad de que se coma un helado.\n",
    "\n",
    "Cuando está triste y sale a correr, hay un 60% de posibilidad de que salga a correr al día siguiente, un 30% de que coma de helado y solo un 10% de posibilidad de que se la pase durmiendo al día siguiente.\n",
    "\n",
    "Finalmente, cuando se da el gusto de comer helado en un día triste, hay sólo un 10% de probabilidad de que siga comiendo helado también al día siguiente, un 70% de probabilidad de que salga a correr y un 20% de probabilidad de que se la pase durmiendo al día siguiente.\n",
    "\n",
    "![alt](./imagen_diagrama.png)"
   ]
  },
  {
   "cell_type": "markdown",
   "metadata": {},
   "source": [
    "**Estado Actual / Siguiente estado**\n",
    "\n",
    "<table>\n",
    "    <thead>\n",
    "        <tr>\n",
    "            <th></th>\n",
    "            <th>Dormir</th>\n",
    "            <th>Correr</th>\n",
    "            <th>Comer Helado</th>\n",
    "        </tr>\n",
    "    </thead>\n",
    "    <tbody>\n",
    "        <tr>\n",
    "            <td>Dormir</td>\n",
    "            <td>0.2</td>\n",
    "            <td>0.6</td>\n",
    "            <td>0.2</td>\n",
    "        </tr>\n",
    "        <tr>\n",
    "            <td>Correr</td>\n",
    "            <td>0.1</td>\n",
    "            <td>0.6</td>\n",
    "            <td>0.3</td>\n",
    "        </tr>\n",
    "        <tr>\n",
    "            <td>Comer Helado</td>\n",
    "            <td>0.2</td>\n",
    "            <td>0.7</td>\n",
    "            <td>0.1</td>\n",
    "        </tr>\n",
    "    </tbody>\n",
    "</table>\n",
    "\n",
    "\n",
    "\n",
    "$$\n",
    "\\begin{bmatrix}\n",
    "0.2 & 0.6 & 0.2 \\\\\n",
    "0.1 & 0.6 & 0.3 \\\\\n",
    "0.2 & 0.7 & 0.1\n",
    "\\end{bmatrix}\n",
    "$$"
   ]
  },
  {
   "cell_type": "markdown",
   "metadata": {},
   "source": [
    "### Definimos los estados"
   ]
  },
  {
   "cell_type": "code",
   "execution_count": null,
   "metadata": {},
   "outputs": [],
   "source": [
    "# Espacio de estados\n",
    "estados = [\"Dormir\", \"Helado\", \"Correr\"]\n",
    "\n",
    "# Posible secuencia de eventos\n",
    "nombresTransicion = [[\"DD\", \"DC\", \"DH\"], [\"CD\", \"CC\", \"CH\"], [\"HD\", \"HC\", \"HH\"]]\n",
    "\n",
    "# Matrix de transicion\n",
    "matrizTransicion = np.array([[0.2,0.6,0.2], [0.1,0.6,0.3], [0.2,0.7,0.1]])\n"
   ]
  },
  {
   "cell_type": "code",
   "execution_count": null,
   "metadata": {},
   "outputs": [],
   "source": [
    "# Solo a modo de ver la matriz de transacción\n",
    "pd.DataFrame(matrizTransicion, columns=estados, index=estados)"
   ]
  },
  {
   "cell_type": "code",
   "execution_count": null,
   "metadata": {},
   "outputs": [],
   "source": [
    "# Debemos asegurar que la suma de las probabilidades de 1\n",
    "if sum(matrizTransicion[0])+sum(matrizTransicion[1])+sum(matrizTransicion[2]) != 3:\n",
    "    print(\"Ups algo raro paso, debe ser culpa de los rusos\")\n",
    "else: print(\"Todo esta Ok, continuemos!! ;)\")\n"
   ]
  },
  {
   "cell_type": "code",
   "execution_count": null,
   "metadata": {},
   "outputs": [],
   "source": [
    "# Validar que la suma de las filas de 1\n",
    "np.sum(matrizTransicion, axis=1)"
   ]
  },
  {
   "cell_type": "markdown",
   "metadata": {},
   "source": [
    "### Implementado el modelo de Markov\n"
   ]
  },
  {
   "cell_type": "code",
   "execution_count": null,
   "metadata": {},
   "outputs": [],
   "source": [
    "def pronosticar_actividad(ndias):\n",
    "    # Elegimos el estado inicial\n",
    "    actividadInicial = \"Dormir\"\n",
    "    print(\"Estado inicial: \" + actividadInicial)\n",
    "    # Esta lista almacenara la secuencia de estados tomados, así que inicio tendra el estado inicial.\n",
    "    listadoActividades = [actividadInicial]\n",
    "    i = 0\n",
    "    # Calcula la probabilidad de listadoActividades\n",
    "    prob = 1\n",
    "    while i != ndias:\n",
    "        if actividadInicial == \"Dormir\":\n",
    "            cambio = np.random.choice(nombresTransicion[0], replace=True, p=matrizTransicion[0])\n",
    "            if cambio == \"DD\":\n",
    "                prob = prob * 0.2\n",
    "                listadoActividades.append(\"Dormir\")\n",
    "                pass\n",
    "            elif cambio == \"DC\":\n",
    "                prob = prob * 0.6\n",
    "                actividadInicial = \"Correr\"\n",
    "                listadoActividades.append(\"Correr\")\n",
    "            else:\n",
    "                prob = prob * 0.2\n",
    "                actividadInicial = \"Helado\"\n",
    "                listadoActividades.append(\"Helado\")\n",
    "        elif actividadInicial == \"Correr\":\n",
    "            cambio = np.random.choice(nombresTransicion[1],replace=True,p=matrizTransicion[1])\n",
    "            if cambio == \"CC\":\n",
    "                prob = prob * 0.5\n",
    "                listadoActividades.append(\"Correr\")\n",
    "                pass\n",
    "            elif cambio == \"CD\":\n",
    "                prob = prob * 0.2\n",
    "                actividadInicial = \"Dormir\"\n",
    "                listadoActividades.append(\"Sleep\")\n",
    "            else:\n",
    "                prob = prob * 0.3\n",
    "                actividadInicial = \"Helado\"\n",
    "                listadoActividades.append(\"Helado\")\n",
    "        elif actividadInicial == \"Helado\":\n",
    "            cambio = np.random.choice(nombresTransicion[2],replace=True,p=matrizTransicion[2])\n",
    "            if cambio == \"HH\":\n",
    "                prob = prob * 0.1\n",
    "                listadoActividades.append(\"Helado\")\n",
    "                pass\n",
    "            elif cambio == \"HD\":\n",
    "                prob = prob * 0.2\n",
    "                actividadInicial = \"Dormir\"\n",
    "                listadoActividades.append(\"Dormir\")\n",
    "            else:\n",
    "                prob = prob * 0.7\n",
    "                actividadInicial = \"Correr\"\n",
    "                listadoActividades.append(\"Correr\")\n",
    "        i += 1\n",
    "    print(\"Possibles estados: \" + str(listadoActividades))\n",
    "    print(\"Estado final despues de \"+ str(ndias) + \" dias: \" + actividadInicial)\n",
    "    print(\"Probabilidad de la secuencia de estados posibles: \" + str(prob))\n"
   ]
  },
  {
   "cell_type": "code",
   "execution_count": null,
   "metadata": {},
   "outputs": [],
   "source": [
    "# Pronosticamos para 2 dias\n",
    "pronosticar_actividad(2)"
   ]
  },
  {
   "cell_type": "markdown",
   "metadata": {},
   "source": [
    "## Ejemplo 2\n",
    "\n",
    "![alt](https://www.researchgate.net/profile/Michael-Muskulus/publication/330360197/figure/fig1/AS:715184796606464@1547524751070/An-example-of-a-Markov-chain-displayed-as-both-a-state-diagram-left-and-a-matrix-with.png)"
   ]
  },
  {
   "cell_type": "code",
   "execution_count": null,
   "metadata": {},
   "outputs": [],
   "source": [
    "class MarkovChain(object):\n",
    "    def __init__(self, transition_prob):\n",
    "        \"\"\"\n",
    "        Iniciamos la instancia de la clase MarkovChain\n",
    "\n",
    "        Parameters\n",
    "        ----------\n",
    "        transition_prob: dict\n",
    "            Objeto diccionario que representa la transicipon de las probabilidades en\n",
    "            la cadena de markov. Debera ser de la forma {'estado_1': {'estado_1': \n",
    "            0.1, 'estado_2': 0.4}, 'estado_2': {...}}\n",
    "        \"\"\"\n",
    "        self.transition_prob = transition_prob\n",
    "        self.states = list(transition_prob.keys())\n",
    "\n",
    "    def next_state(self, current_state):\n",
    "        \"\"\"\n",
    "        Regresa el estado de la variable aleatoria (rv = random variable) para la siguientes\n",
    "        instancia de tiempo.\n",
    "\n",
    "        Parameters\n",
    "        ----------\n",
    "        current_state: str\n",
    "            Estado actual de la rv en el sistema.\n",
    "        \"\"\"\n",
    "        return np.random.choice(\n",
    "            self.states, p=[self.transition_prob[current_state][next_state]\n",
    "                            for next_state in self.states])\n",
    "\n",
    "    def generate_states(self, current_state, no=10):\n",
    "        \"\"\"\n",
    "        Genera el siguiente estado en el sistema.\n",
    "\n",
    "        Parameters\n",
    "        ----------\n",
    "        current_state: str\n",
    "            El estado actual de la variable aleatoria.\n",
    "\n",
    "        no: int\n",
    "            Númer de futuros estados a generar.\n",
    "        \"\"\"\n",
    "        future_states = []\n",
    "        for i in range(no):\n",
    "            next_state = self.next_state(current_state)\n",
    "            future_states.append(next_state)\n",
    "            current_state = next_state\n",
    "        return future_states\n",
    "\n",
    "transition_prob = {\n",
    "    'Sunny': {'Sunny': 0.8, 'Rainy': 0.19, 'Snowy': 0.01},\n",
    "    'Rainy': {'Sunny': 0.2, 'Rainy': 0.7, 'Snowy': 0.1},\n",
    "    'Snowy': {'Sunny': 0.1, 'Rainy': 0.2, 'Snowy': 0.7}\n",
    "}\n",
    "\n",
    "\n",
    "weather_chain = MarkovChain(transition_prob=transition_prob)\n",
    "weather_chain.next_state(current_state='Sunny')\n",
    "# weather_chain.next_state(current_state='Rainy')\n",
    "weather_chain.generate_states(current_state='Rainy', no=10)\n"
   ]
  },
  {
   "cell_type": "code",
   "execution_count": null,
   "metadata": {},
   "outputs": [],
   "source": [
    "transition_prob = {\n",
    "    'clouds': {'clouds': 0.4, 'rain': 0.3, 'sun': 0.3},\n",
    "    'rain': {'clouds': 0.5, 'rain': 0.3, 'sun': 0.2},\n",
    "    'sun': {'clouds': 0.5, 'rain': 0.1, 'sun': 0.4}\n",
    "}"
   ]
  },
  {
   "cell_type": "code",
   "execution_count": null,
   "metadata": {},
   "outputs": [],
   "source": [
    "weather_chain = MarkovChain(transition_prob=transition_prob)\n",
    "weather_chain.next_state(current_state='clouds')\n",
    "weather_chain.next_state(current_state='sun')\n",
    "weather_chain.generate_states(current_state='sun', no=10)"
   ]
  },
  {
   "cell_type": "markdown",
   "metadata": {},
   "source": [
    "## Ejemplo 3"
   ]
  },
  {
   "cell_type": "code",
   "execution_count": 1,
   "metadata": {},
   "outputs": [
    {
     "name": "stdout",
     "output_type": "stream",
     "text": [
      "Requirement already satisfied: markovify in d:\\programdata\\anaconda3\\envs\\irc_ai\\lib\\site-packages (0.9.4)\n",
      "Requirement already satisfied: unidecode in d:\\programdata\\anaconda3\\envs\\irc_ai\\lib\\site-packages (from markovify) (1.3.6)\n"
     ]
    }
   ],
   "source": [
    "# Necesitamos instalar markovify \n",
    "!pip install markovify"
   ]
  },
  {
   "cell_type": "code",
   "execution_count": 2,
   "metadata": {},
   "outputs": [],
   "source": [
    "# Paso 1\n",
    "import re\n",
    "import urllib\n",
    "import markovify"
   ]
  },
  {
   "cell_type": "code",
   "execution_count": 3,
   "metadata": {},
   "outputs": [],
   "source": [
    "# Paso 2 - Crear un archivo para que markovify lo lea y escriba\n",
    "originalLyrics = open('lyrics.txt', 'w')"
   ]
  },
  {
   "cell_type": "code",
   "execution_count": 4,
   "metadata": {},
   "outputs": [],
   "source": [
    "# Paso 3 - Haremos un poco de scrapping\n",
    "\n",
    "url = \"https://search.azlyrics.com/search.php?q=Queen&x=56ef8bf517f5fb222b5e235d0457e5a69c012096f73150e3d380b07057997224\"\n",
    "artistHtml = urllib.request.urlopen(url)\n",
    "artistHtmlStr = str(artistHtml.read())\n",
    "\n",
    "links = re.findall('href=\"([^\"]+)\"', artistHtmlStr)"
   ]
  },
  {
   "cell_type": "code",
   "execution_count": 5,
   "metadata": {},
   "outputs": [
    {
     "name": "stdout",
     "output_type": "stream",
     "text": [
      "['https://maxcdn.bootstrapcdn.com/bootstrap/3.3.4/css/bootstrap.min.css', '//www.azlyrics.com/local/az.css', 'https://a.pub.network/core/pubfig/cls.css', '//www.azlyrics.com', '//www.azlyrics.com/a.html', '//www.azlyrics.com/b.html', '//www.azlyrics.com/c.html', '//www.azlyrics.com/d.html', '//www.azlyrics.com/e.html', '//www.azlyrics.com/f.html', '//www.azlyrics.com/g.html', '//www.azlyrics.com/h.html', '//www.azlyrics.com/i.html', '//www.azlyrics.com/j.html', '//www.azlyrics.com/k.html', '//www.azlyrics.com/l.html', '//www.azlyrics.com/m.html', '//www.azlyrics.com/n.html', '//www.azlyrics.com/o.html', '//www.azlyrics.com/p.html', '//www.azlyrics.com/q.html', '//www.azlyrics.com/r.html', '//www.azlyrics.com/s.html', '//www.azlyrics.com/t.html', '//www.azlyrics.com/u.html', '//www.azlyrics.com/v.html', '//www.azlyrics.com/w.html', '//www.azlyrics.com/x.html', '//www.azlyrics.com/y.html', '//www.azlyrics.com/z.html', '//www.azlyrics.com/19.html', 'https://www.azlyrics.com/lyrics/gidle/queencard.html', 'https://www.azlyrics.com/lyrics/queen/bohemianrhapsody.html', 'https://www.azlyrics.com/lyrics/queen/underpressure.html', 'https://www.azlyrics.com/lyrics/abba/dancingqueen.html', 'https://www.azlyrics.com/lyrics/queen/wewillrockyou.html', '?q=Queen&w=songs&p=1&x=56ef8bf517f5fb222b5e235d0457e5a69c012096f73150e3d380b07057997224', 'https://www.azlyrics.com/q/queen.html', 'https://www.azlyrics.com/q/queensryche.html', 'https://www.azlyrics.com/q/queensofthestoneage.html', 'https://www.azlyrics.com/q/queenlatifah.html', 'https://www.azlyrics.com/q/queennaija.html', '?q=Queen&w=artists&p=1&x=56ef8bf517f5fb222b5e235d0457e5a69c012096f73150e3d380b07057997224', 'https://www.azlyrics.com/q/queen.html#8276', 'https://www.azlyrics.com/q/queensryche.html#18458', 'https://www.azlyrics.com/q/queensryche.html#27742', 'https://www.azlyrics.com/k/khia.html#49114', 'https://www.azlyrics.com/k/king810.html#52259', '?q=Queen&w=albums&p=1&x=56ef8bf517f5fb222b5e235d0457e5a69c012096f73150e3d380b07057997224', 'https://www.azlyrics.com/lyrics/taylorswift/blankspace.html', 'https://www.azlyrics.com/lyrics/dojacat/demons.html', 'https://www.azlyrics.com/lyrics/ayeshaerotica/yummy.html', 'https://www.azlyrics.com/lyrics/gidle/queencard.html', 'https://www.azlyrics.com/lyrics/eagles/desperado.html', '?q=Queen&w=lyrics&p=1&x=56ef8bf517f5fb222b5e235d0457e5a69c012096f73150e3d380b07057997224', '//www.azlyrics.com/add.php', '//www.stlyrics.com', '//www.facebook.com/pages/AZLyricscom/154139197951223', '//www.azlyrics.com/contact.html', '//www.azlyrics.com/adv.html', '//www.azlyrics.com/privacy.html', '//www.azlyrics.com/cookie.html', '//www.azlyrics.com/copyright.html', '//www.azlyrics.com/bs/css/bootstrap.min.css', '//www.azlyrics.com/bsaz.css']\n"
     ]
    }
   ],
   "source": [
    "print(links)"
   ]
  },
  {
   "cell_type": "code",
   "execution_count": 6,
   "metadata": {},
   "outputs": [],
   "source": [
    "# Creamos una lista para mantener los links hacia las letras\n",
    "songLinks = []"
   ]
  },
  {
   "cell_type": "code",
   "execution_count": 7,
   "metadata": {},
   "outputs": [],
   "source": [
    "for x in links:\n",
    "    if \"lyrics/queen\" in x:\n",
    "        songLinks.append(x)"
   ]
  },
  {
   "cell_type": "code",
   "execution_count": 8,
   "metadata": {},
   "outputs": [
    {
     "name": "stdout",
     "output_type": "stream",
     "text": [
      "['https://www.azlyrics.com/lyrics/queen/bohemianrhapsody.html', 'https://www.azlyrics.com/lyrics/queen/underpressure.html', 'https://www.azlyrics.com/lyrics/queen/wewillrockyou.html']\n"
     ]
    }
   ],
   "source": [
    "print(songLinks)"
   ]
  },
  {
   "cell_type": "code",
   "execution_count": 9,
   "metadata": {},
   "outputs": [],
   "source": [
    "# Scrapear las letras de las canciones\n",
    "for x in songLinks:\n",
    "    songHtml = urllib.request.urlopen(x)\n",
    "    songHtmlStr = str(songHtml.read())"
   ]
  },
  {
   "cell_type": "code",
   "execution_count": 10,
   "metadata": {},
   "outputs": [],
   "source": [
    "split = songHtmlStr.split('content by any third-party lyrics provider is prohibited by our licensing agreement. Sorry about that. -->',1)"
   ]
  },
  {
   "cell_type": "code",
   "execution_count": 11,
   "metadata": {},
   "outputs": [
    {
     "data": {
      "text/plain": [
       "['b\\'<!DOCTYPE html>\\\\r\\\\n<html lang=\"en\">\\\\r\\\\n<head>\\\\r\\\\n<meta charset=\"utf-8\">\\\\r\\\\n<meta http-equiv=\"X-UA-Compatible\" content=\"IE=edge\">\\\\r\\\\n<meta name=\"viewport\" content=\"width=device-width, initial-scale=1\">\\\\r\\\\n<meta name=\"description\" content=\"Queen &quot;We Will Rock You&quot;: Buddy you\\\\\\'re a boy make a big noise Playin\\\\\\' in the street gonna be a big man some day You got mud on...\"> \\\\r\\\\n<meta name=\"keywords\" content=\"We Will Rock You lyrics, Queen We Will Rock You lyrics, Queen lyrics\">\\\\r\\\\n<meta name=\"robots\" content=\"noarchive\">\\\\r\\\\n<meta property=\"og:image\" content=\"//www.azlyrics.com/az_logo_tr.png\">\\\\r\\\\n<title>Queen - We Will Rock You Lyrics | AZLyrics.com</title>\\\\r\\\\n\\\\r\\\\n<link rel=\"canonical\" href=\"https://www.azlyrics.com/lyrics/queen/wewillrockyou.html\" />\\\\r\\\\n<link rel=\"stylesheet\" href=\"https://maxcdn.bootstrapcdn.com/bootstrap/3.3.4/css/bootstrap.min.css\">\\\\r\\\\n<link rel=\"stylesheet\" href=\"/local/az.css\">\\\\r\\\\n\\\\r\\\\n<!-- HTML5 shim and Respond.js for IE8 support of HTML5 elements and media queries -->\\\\r\\\\n<!--[if lt IE 9]>\\\\r\\\\n<script src=\"https://oss.maxcdn.com/html5shiv/3.7.2/html5shiv.min.js\"></script>\\\\r\\\\n<script src=\"https://oss.maxcdn.com/respond/1.4.2/respond.min.js\"></script>\\\\r\\\\n<![endif]-->\\\\r\\\\n<script type=\"text/javascript\">\\\\r\\\\nwindow.rtkGPTSlotsTargeting = [\\\\r\\\\n    [\\\\r\\\\n        [\"genre\", \"rock\"],\\\\r\\\\n        [\"artist\", \"Queen\"]\\\\r\\\\n    ]\\\\r\\\\n];\\\\r\\\\n</script>\\\\r\\\\n\\\\r\\\\n<!-- Start WKND tag. Deploy at the beginning of document head. -->\\\\r\\\\n<!-- Tag for Bandsintown | AZ Lyrics (azlyrics.com) -->\\\\r\\\\n<script>\\\\r\\\\n\\\\t(function(d) {\\\\r\\\\n\\\\t\\\\tvar e = d.createElement(\\\\\\'script\\\\\\');\\\\r\\\\n\\\\t\\\\te.src = d.location.protocol + \\\\\\'//tag.wknd.ai/6284/i.js\\\\\\';\\\\r\\\\n\\\\t\\\\te.async = true;\\\\r\\\\n\\\\t\\\\td.getElementsByTagName(\"head\")[0].appendChild(e);\\\\r\\\\n\\\\t}(document));\\\\r\\\\n</script>\\\\r\\\\n<!-- End WKND tag -->\\\\r\\\\n\\\\r\\\\n<!-- Google tag (gtag.js) -->\\\\r\\\\n<script async src=\"https://www.googletagmanager.com/gtag/js?id=G-7DQK0JTQTQ\"></script>\\\\r\\\\n<script>\\\\r\\\\n  window.dataLayer = window.dataLayer || [];\\\\r\\\\n  function gtag(){dataLayer.push(arguments);}\\\\r\\\\n  gtag(\\\\\\'js\\\\\\', new Date());\\\\r\\\\n\\\\r\\\\n  gtag(\\\\\\'config\\\\\\', \\\\\\'G-7DQK0JTQTQ\\\\\\');\\\\r\\\\n</script>\\\\r\\\\n\\\\r\\\\n<script src=\"https://cookie-cdn.cookiepro.com/scripttemplates/otSDKStub.js\" data-language=\"en\" type=\"text/javascript\" charset=\"UTF-8\" data-domain-script=\"464b7175-7273-4e0f-8753-e9a483d4a156\" ></script>\\\\r\\\\n<script type=\"text/javascript\">\\\\r\\\\nfunction OptanonWrapper() { }\\\\r\\\\n</script>\\\\r\\\\n\\\\r\\\\n<script type=\"text/javascript\">\\\\r\\\\nArtistName = \"Queen\";\\\\r\\\\nSongName = \"We Will Rock You\";\\\\r\\\\nfunction submitAdded(){\\\\r\\\\n\\\\tdocument.getElementById(\\\\\\'addsong\\\\\\').submit();\\\\r\\\\n\\\\treturn false;\\\\r\\\\n}\\\\r\\\\nfunction submitCorrected(){\\\\r\\\\n\\\\tdocument.getElementById(\\\\\\'corlyr\\\\\\').submit();\\\\r\\\\n\\\\treturn false;\\\\r\\\\n}\\\\r\\\\n</script>\\\\r\\\\n\\\\r\\\\n<link rel=\"stylesheet\" href=\"https://a.pub.network/core/pubfig/cls.css\">\\\\r\\\\n<script data-cfasync=\"false\" type=\"text/javascript\">\\\\r\\\\n  var freestar = freestar || {};\\\\r\\\\n  freestar.queue = freestar.queue || [];\\\\r\\\\n  freestar.config = freestar.config || {};\\\\r\\\\n  freestar.config.enabled_slots = [];\\\\r\\\\n  freestar.initCallback = function () { (freestar.config.enabled_slots.length === 0) ? freestar.initCallbackCalled = false : freestar.newAdSlots(freestar.config.enabled_slots) }\\\\r\\\\n</script>\\\\r\\\\n<script src=\"https://a.pub.network/azlyrics-com/pubfig.min.js\" async></script>\\\\r\\\\n</head>\\\\r\\\\n<body class=\"az-song-text\">\\\\r\\\\n  <nav class=\"navbar navbar-default navbar-static-top noprint\">\\\\r\\\\n  <div class=\"container\">\\\\r\\\\n    <!-- Brand and toggle get grouped for better mobile display -->\\\\r\\\\n    <div class=\"navbar-header\">\\\\r\\\\n      <button type=\"button\" class=\"navbar-toggle collapsed\" data-toggle=\"collapse\" data-target=\"#search-collapse\">\\\\r\\\\n        <span class=\"glyphicon glyphicon-search\"></span>\\\\r\\\\n      </button>\\\\r\\\\n      <button type=\"button\" class=\"navbar-toggle collapsed\" data-toggle=\"collapse\" data-target=\"#artists-collapse\">\\\\r\\\\n        <span class=\"glyphicon glyphicon-th-list\"></span>\\\\r\\\\n      </button>\\\\r\\\\n      <a class=\"navbar-brand\" href=\"//www.azlyrics.com\"><img alt=\"AZLyrics.com\" class=\"pull-left\" style=\"max-height:40px; margin-top:-10px;\" src=\"//www.azlyrics.com/az_logo_tr.png\"></a>\\\\r\\\\n    </div>\\\\r\\\\n    <ul class=\"collapse navbar-collapse nav navbar-nav\" id=\"artists-collapse\">\\\\r\\\\n    <li>\\\\r\\\\n    <div class=\"btn-group text-center\" role=\"group\">\\\\r\\\\n    <a class=\"btn btn-menu\" href=\"//www.azlyrics.com/a.html\">A</a>\\\\r\\\\n    <a class=\"btn btn-menu\" href=\"//www.azlyrics.com/b.html\">B</a>\\\\r\\\\n    <a class=\"btn btn-menu\" href=\"//www.azlyrics.com/c.html\">C</a>\\\\r\\\\n    <a class=\"btn btn-menu\" href=\"//www.azlyrics.com/d.html\">D</a>\\\\r\\\\n    <a class=\"btn btn-menu\" href=\"//www.azlyrics.com/e.html\">E</a>\\\\r\\\\n    <a class=\"btn btn-menu\" href=\"//www.azlyrics.com/f.html\">F</a>\\\\r\\\\n    <a class=\"btn btn-menu\" href=\"//www.azlyrics.com/g.html\">G</a>\\\\r\\\\n    <a class=\"btn btn-menu\" href=\"//www.azlyrics.com/h.html\">H</a>\\\\r\\\\n    <a class=\"btn btn-menu\" href=\"//www.azlyrics.com/i.html\">I</a>\\\\r\\\\n    <a class=\"btn btn-menu\" href=\"//www.azlyrics.com/j.html\">J</a>\\\\r\\\\n    <a class=\"btn btn-menu\" href=\"//www.azlyrics.com/k.html\">K</a>\\\\r\\\\n    <a class=\"btn btn-menu\" href=\"//www.azlyrics.com/l.html\">L</a>\\\\r\\\\n    <a class=\"btn btn-menu\" href=\"//www.azlyrics.com/m.html\">M</a>\\\\r\\\\n    <a class=\"btn btn-menu\" href=\"//www.azlyrics.com/n.html\">N</a>\\\\r\\\\n    <a class=\"btn btn-menu\" href=\"//www.azlyrics.com/o.html\">O</a>\\\\r\\\\n    <a class=\"btn btn-menu\" href=\"//www.azlyrics.com/p.html\">P</a>\\\\r\\\\n    <a class=\"btn btn-menu\" href=\"//www.azlyrics.com/q.html\">Q</a>\\\\r\\\\n    <a class=\"btn btn-menu\" href=\"//www.azlyrics.com/r.html\">R</a>\\\\r\\\\n    <a class=\"btn btn-menu\" href=\"//www.azlyrics.com/s.html\">S</a>\\\\r\\\\n    <a class=\"btn btn-menu\" href=\"//www.azlyrics.com/t.html\">T</a>\\\\r\\\\n    <a class=\"btn btn-menu\" href=\"//www.azlyrics.com/u.html\">U</a>\\\\r\\\\n    <a class=\"btn btn-menu\" href=\"//www.azlyrics.com/v.html\">V</a>\\\\r\\\\n    <a class=\"btn btn-menu\" href=\"//www.azlyrics.com/w.html\">W</a>\\\\r\\\\n    <a class=\"btn btn-menu\" href=\"//www.azlyrics.com/x.html\">X</a>\\\\r\\\\n    <a class=\"btn btn-menu\" href=\"//www.azlyrics.com/y.html\">Y</a>\\\\r\\\\n    <a class=\"btn btn-menu\" href=\"//www.azlyrics.com/z.html\">Z</a>\\\\r\\\\n    <a class=\"btn btn-menu\" href=\"//www.azlyrics.com/19.html\">#</a>\\\\r\\\\n    </div>\\\\r\\\\n    </li>\\\\r\\\\n    </ul>\\\\r\\\\n\\\\r\\\\n    <div class=\"collapse navbar-collapse\" id=\"search-collapse\">\\\\r\\\\n\\\\r\\\\n        <form class=\"navbar-form navbar-right search\" method=\"get\" action=\"//search.azlyrics.com/search.php\" role=\"search\">\\\\r\\\\n         <div class=\"input-group\">  \\\\r\\\\n\\\\t\\\\t<input type=\"text\" class=\"form-control\" placeholder=\"\" name=\"q\" id=\"q\">\\\\r\\\\n       \\\\t\\\\t<span class=\"input-group-btn\">\\\\r\\\\n            \\\\t  <button class=\"btn btn-primary\" type=\"submit\"><span class=\"glyphicon glyphicon-search\"></span> Search</button>\\\\r\\\\n          \\\\t</span>\\\\r\\\\n \\\\t  </div>   \\\\r\\\\n\\\\t</form>\\\\r\\\\n\\\\r\\\\n    </div><!-- /.navbar-collapse -->\\\\r\\\\n    </div><!-- /.container -->\\\\r\\\\n  </nav>\\\\r\\\\n\\\\r\\\\n<!-- top ban -->\\\\r\\\\n  <div class=\"lboard-wrap noprint\">\\\\r\\\\n  <div class=\"container\">\\\\r\\\\n    <div class=\"row\">\\\\r\\\\n       <div class=\"top-ad text-center\">\\\\r\\\\n            <div id=\"primisPlayer\"></div>\\\\r\\\\n       </div>\\\\r\\\\n    </div>\\\\r\\\\n  </div>\\\\r\\\\n  </div>\\\\r\\\\n\\\\r\\\\n<!-- main -->\\\\r\\\\n<div class=\"container main-page\">\\\\r\\\\n<div class=\"text-center noprint\">\\\\r\\\\n<!-- Tag ID: azlyrics_atf_leaderboard -->\\\\r\\\\n    <div align=\"center\" data-freestar-ad=\"__320x50 __728x90\" id=\"azlyrics_atf_leaderboard\">\\\\r\\\\n      <script data-cfasync=\"false\" type=\"text/javascript\">\\\\r\\\\n        freestar.config.enabled_slots.push({ placementName: \"azlyrics_atf_leaderboard\", slotId: \"azlyrics_atf_leaderboard\" });\\\\r\\\\n      </script>\\\\r\\\\n    </div>\\\\r\\\\n</div>\\\\r\\\\n<div class=\"row\">\\\\r\\\\n<div class=\"col-lg-2 text-center hidden-md hidden-sm hidden-xs noprint\">\\\\r\\\\n   <div class=\"sky-ad\"></div>\\\\r\\\\n</div>\\\\r\\\\n    \\\\r\\\\n<!-- content -->\\\\r\\\\n<div class=\"col-xs-12 col-lg-8 text-center\">\\\\r\\\\n\\\\r\\\\n<div class=\"div-share noprint\">\\\\r\\\\n<div class=\"addthis_toolbox addthis_default_style\">\\\\r\\\\n<a href=\"https://www.facebook.com/sharer.php?u=https%3A%2F%2Fwww.azlyrics.com%2Flyrics%2Fqueen%2Fwewillrockyou.html&amp;title=Queen%20-%20We%20Will%20Rock%20You%20Lyrics%20%7C%20AZLyrics.com&amp;display=page\" target=\"_blank\" class=\"btn btn-xs btn-share addthis_button_facebook\">\\\\r\\\\n<span class=\"playblk\"><img src=\"//www.azlyrics.com/images/share-icons/facebook.svg\" width=\"25\" height=\"25\" class=\"playblk\" alt=\"Share on Facebook\" title=\"Share on Facebook\"></span>\\\\r\\\\n</a>\\\\r\\\\n<a href=\"https://twitter.com/intent/tweet?url=https%3A%2F%2Fwww.azlyrics.com%2Flyrics%2Fqueen%2Fwewillrockyou.html&amp;text=Queen%20-%20We%20Will%20Rock%20You%20Lyrics%20%7C%20AZLyrics.com\" target=\"_blank\" class=\"btn btn-xs btn-share addthis_button_twitter\">\\\\r\\\\n<span class=\"playblk\"><img src=\"//www.azlyrics.com/images/share-icons/twitter.svg\" width=\"25\" height=\"25\" class=\"playblk\" alt=\"Share on Twitter\" title=\"Share on Twitter\"></span>\\\\r\\\\n</a>\\\\r\\\\n<a href=\"mailto:?subject=Queen%20-%20We%20Will%20Rock%20You%20Lyrics%20%7C%20AZLyrics.com&amp;body=https%3A%2F%2Fwww.azlyrics.com%2Flyrics%2Fqueen%2Fwewillrockyou.html\" target=\"_blank\" class=\"btn btn-xs btn-share addthis_button_email\">\\\\r\\\\n<span class=\"playblk\"><img src=\"//www.azlyrics.com/images/share-icons/email.svg\" width=\"25\" height=\"25\" class=\"playblk\" alt=\"Email\" title=\"Email\"></span>\\\\r\\\\n</a>\\\\r\\\\n<a class=\"btn btn-xs btn-share addthis_button_print\" style=\"margin-right: 0px !important;\" href=\"javascript:void(window.print());\">\\\\r\\\\n<span class=\"playblk\"><img src=\"//www.azlyrics.com/images/share-icons/print.svg\" width=\"25\" height=\"25\" class=\"playblk\" alt=\"Print\" title=\"Print\"></span>\\\\r\\\\n</a>\\\\r\\\\n</div>\\\\r\\\\n</div>\\\\r\\\\n\\\\r\\\\n<div class=\"div-share\"><h1>\"We Will Rock You\" lyrics</h1></div>\\\\r\\\\n\\\\r\\\\n<div class=\"lyricsh\">\\\\r\\\\n<h2><a href=\"//www.azlyrics.com/q/queen.html\"><b>Queen Lyrics</b></a></h2>\\\\r\\\\n</div>\\\\r\\\\n\\\\r\\\\n<div class=\"ringtone\">\\\\r\\\\n<span id=\"cf_text_top\"></span>\\\\r\\\\n</div>\\\\r\\\\n\\\\r\\\\n<b>\"We Will Rock You\"</b><br>\\\\r\\\\n<br>\\\\r\\\\n\\\\r\\\\n<div>\\\\r\\\\n<!-- Usage of azlyrics.com ',\n",
       " '\\\\r\\\\nBuddy you\\\\\\'re a boy make a big noise<br>\\\\nPlayin\\\\\\' in the street gonna be a big man some day<br>\\\\nYou got mud on yo\\\\\\' face<br>\\\\nYou big disgrace<br>\\\\nKickin\\\\\\' your can all over the place<br>\\\\nSingin\\\\\\'<br>\\\\n<br>\\\\nWe will we will rock you<br>\\\\nWe will we will rock you<br>\\\\n<br>\\\\nBuddy you\\\\\\'re a young man hard man<br>\\\\nShoutin\\\\\\' in the street gonna take on the world some day<br>\\\\nYou got blood on yo\\\\\\' face<br>\\\\nYou big disgrace<br>\\\\nWavin\\\\\\' your banner all over the place<br>\\\\n<br>\\\\nWe will we will rock you<br>\\\\n(Sing it out!)<br>\\\\nWe will we will rock you<br>\\\\n<br>\\\\nBuddy you\\\\\\'re an old man poor man<br>\\\\nPleadin\\\\\\' with your eyes gonna make you some peace some day<br>\\\\nYou got mud on your face<br>\\\\nBig disgrace<br>\\\\nSomebody better put you back into your place<br>\\\\n<br>\\\\nWe will we will rock you<br>\\\\n(Sing it!)<br>\\\\nWe will we will rock you<br>\\\\n<br>\\\\n(Everybody)<br>\\\\n<br>\\\\nWe will we will rock you<br>\\\\nWe will we will rock you<br>\\\\n<br>\\\\n(Alright)\\\\n</div>\\\\r\\\\n\\\\r\\\\n<br><br>\\\\r\\\\n\\\\r\\\\n<!-- MxM banner -->\\\\r\\\\n<div class=\"noprint\" id=\"azmxmbanner\" style=\"display:none;\">\\\\r\\\\n<script>\\\\r\\\\nif  ( /Android|webOS|iPhone|iPod|iPad|BlackBerry|IEMobile|Opera Mini/i.test(navigator.userAgent) ) \\\\r\\\\n  {\\\\r\\\\n     document.getElementById(\\\\\\'azmxmbanner\\\\\\').style.display=\\\\\\'block\\\\\\';\\\\r\\\\n     document.write(\\\\\\'<div style=\"margin-left: auto; margin-right: auto;\">\\\\\\'+\\\\r\\\\n  \\\\\\'<iframe scrolling=\"no\" style=\"border: 0px none; overflow:hidden;\" src=\"//adv.mxmcdn.net/br/t1.0/m_js/e_0/sn_0/l_17713099/su_0/rs_0/tr_3vUCAF9Et8ujYX2sWbSi3S6EvN4yxqNHQeT9zstXuNPPfTwgZwESty6xTwY0i-qG4fwAFH7fjKXjCSF4KqAmw102S1q-LWreLpsKTBSCR8IJiK9jFXJgLd8ZEHmUHAzkYtrtqKnPSeXG_5zDDeKDZvwM-4nSa8FQrTa2y-17O9S2g2ep1fRAtCkI-CBYuf-ldAS1KoMJZvbpHW16EFxe9JpVV9faqNhyEEW4PzgokC7-rfyrFOj-GnmbbCR0WEwarR48ha_An-Io7uFwvTMBSUCzwMHbKTvoH2RmE-VXW3iTDMoOga08eCmgb3rZeNdZcSUPHmLQNKFDgXHExTGnkzgeKy3uiGhPYCegjMmg_uT-VMUh2-UbOJFrcuX4Yq2vLbVrHO5pdkvSPS8x9YJco2pps8m5N4uUJccw4nh8OMWkJI0lDI9VUr1qhBnMU6ad88k/\" width=\"290px\" height=\"50px\"></iframe>\\\\\\'+\\\\r\\\\n  \\\\\\'</div>\\\\\\');\\\\r\\\\n   }\\\\r\\\\n</script>\\\\r\\\\n<br><br>\\\\r\\\\n</div>\\\\r\\\\n\\\\r\\\\n<form id=\"addsong\" action=\"../../add.php\" method=\"post\">\\\\r\\\\n<input type=\"hidden\" name=\"what\" value=\"add_song\">\\\\r\\\\n<input type=\"hidden\" name=\"artist\" value=\"Queen\">\\\\r\\\\n<input type=\"hidden\" name=\"artist_id\" value=\"1991\">\\\\r\\\\n</form>\\\\r\\\\n\\\\r\\\\n<form id=\"corlyr\" action=\"../../add.php\" method=\"post\">\\\\r\\\\n<input type=\"hidden\" name=\"what\" value=\"correct_lyrics\">\\\\r\\\\n<input type=\"hidden\" name=\"song_id\" value=\"86818\">\\\\r\\\\n</form>\\\\r\\\\n\\\\r\\\\n<div class=\"smt noprint\">\\\\r\\\\n<a class=\"btn btn-primary\" href=\"#\" onclick=\"submitCorrected()\"><span class=\"glyphicon glyphicon-pencil\"></span> Submit Corrections</a>\\\\r\\\\n</div>\\\\r\\\\n\\\\r\\\\n<div class=\"smt\"><small>Thanks to Invincible 2001, Iskandar, Ally Stunt, Alfonso Limjap, Mitch for correcting these lyrics.<br></small>\\\\n</div>\\\\r\\\\n\\\\r\\\\n<div class=\"noprint\" style=\"padding: 15px 0\">\\\\r\\\\n<span id=\"cf_text_bottom\"></span>\\\\r\\\\n</div>\\\\r\\\\n\\\\r\\\\n<!-- credits -->\\\\r\\\\n<div class=\"smt\"><small>Writer(s): Brian May</small>\\\\n<br>\\\\n</div>\\\\r\\\\n\\\\r\\\\n<!-- song facts -->\\\\r\\\\n<div class=\"panel album-panel noprint\">\\\\nIt was Brian May who decided to make this song simple and anthemic to get their live audiences more involved in their shows.\\\\n</div>\\\\n<div class=\"panel album-panel noprint\">\\\\nThis track was released as a double-A-side single with <a href=\"https://www.azlyrics.com/lyrics/queen/wearethechampions.html\">\"We Are the Champions\"</a>. It became one of Queen\\\\\\'s biggest songs and a constant number of arena and stadium sports everywhere.\\\\n</div>\\\\n<div class=\"panel album-panel noprint\">\\\\nThe song was recorded in an empty church because Queen loved the acoustics.\\\\n</div>\\\\n<div class=\"panel album-panel noprint\">\\\\nThere is a fast version of this song recorded by Queen with John Peel in 1977.\\\\n</div>\\\\n<div class=\"panel album-panel noprint\">\\\\nIn the <a href=\"https://www.youtube.com/watch?v=-tJYN-eG1zk\" target=\"_blank\">music video</a> for \"We Will Rock You\", Brian May used a copy of his guitar because the band performed in the snow in Roger Taylor\\\\\\'s garden, and May wanted to keep his Red Special away from outside conditions.\\\\n</div>\\\\n\\\\r\\\\n<div class=\"abovebreadcrumb noprint\">\\\\r\\\\n<!-- Tag ID: azlyrics_btf_2 -->\\\\r\\\\n    <div align=\"center\" data-freestar-ad=\"__300x250 __728x90\" id=\"azlyrics_btf_2\">\\\\r\\\\n      <script data-cfasync=\"false\" type=\"text/javascript\">\\\\r\\\\n        freestar.config.enabled_slots.push({ placementName: \"azlyrics_btf_2\", slotId: \"azlyrics_btf_2\" });\\\\r\\\\n      </script>\\\\r\\\\n    </div>\\\\r\\\\n</div>\\\\r\\\\n\\\\r\\\\n<!-- artist link -->\\\\r\\\\n<ol class=\"breadcrumb noprint\" itemscope itemtype=\"https://schema.org/BreadcrumbList\">\\\\r\\\\n  <li itemprop=\"itemListElement\" itemscope itemtype=\"https://schema.org/ListItem\"><a itemprop=\"item\" href=\"//www.azlyrics.com\"><span itemprop=\"name\">AZLyrics</span></a><meta itemprop=\"position\" content=\"1\"></li>\\\\r\\\\n  <li itemprop=\"itemListElement\" itemscope itemtype=\"https://schema.org/ListItem\"><a itemprop=\"item\" href=\"//www.azlyrics.com/q.html\"><span itemprop=\"name\">Q</span></a><meta itemprop=\"position\" content=\"2\"></li>\\\\r\\\\n  <li itemprop=\"itemListElement\" itemscope itemtype=\"https://schema.org/ListItem\"><a itemprop=\"item\" href=\"//www.azlyrics.com/q/queen.html\"><span itemprop=\"name\">Queen Lyrics</span></a><meta itemprop=\"position\" content=\"3\"></li>\\\\r\\\\n</ol>\\\\r\\\\n\\\\r\\\\n<!-- album songlists -->\\\\r\\\\n<div class=\"panel songlist-panel noprint\">\\\\r\\\\n<div class=\"songinalbum_title\">album: <b>\"News Of The World\"</b> (1977)<div><img src=\"/images/albums/827/9e0a3168a0dcc2474e16762f0b4f340c.jpg\" class=\"album-image\" alt=\"Queen - News Of The World album cover\" /></div></div>\\\\r\\\\n<div class=\"listalbum-item\"><a href=\"/lyrics/queen/wewillrockyou.html\">We Will Rock You</a> </div>\\\\n<div class=\"listalbum-item\"><a href=\"/lyrics/queen/wearethechampions.html\">We Are The Champions</a> </div>\\\\n<div class=\"listalbum-item\"><a href=\"/lyrics/queen/sheerheartattack.html\">Sheer Heart Attack</a> </div>\\\\n<div class=\"listalbum-item\"><a href=\"/lyrics/queen/alldeadalldead.html\">All Dead, All Dead</a> </div>\\\\n<div class=\"listalbum-item\"><a href=\"/lyrics/queen/spreadyourwings.html\">Spread Your Wings</a> </div>\\\\n<div class=\"listalbum-item\"><a href=\"/lyrics/queen/fightfromtheinside.html\">Fight From The Inside</a> </div>\\\\n<div class=\"listalbum-item\"><a href=\"/lyrics/queen/getdownmakelove.html\">Get Down, Make Love</a> </div>\\\\n<div class=\"listalbum-item\"><a href=\"/lyrics/queen/sleepingonthesidewalk.html\">Sleeping On The Sidewalk</a> </div>\\\\n<div class=\"listalbum-item\"><a href=\"/lyrics/queen/whoneedsyou.html\">Who Needs You</a> </div>\\\\n<div class=\"listalbum-item\"><a href=\"/lyrics/queen/itslate.html\">It\\\\\\'s Late</a> </div>\\\\n<div class=\"listalbum-item\"><a href=\"/lyrics/queen/mymelancholyblues.html\">My Melancholy Blues</a> </div>\\\\n<div class=\"listalbum-item\"><a href=\"/lyrics/queen/alldeadalldeadhybridversion.html\">All Dead, All Dead (Hybrid Version)</a> <div class=\"comment\">(40th-Anniversary Raw-Sessions Track)</div></div>\\\\n</div>\\\\r\\\\n\\\\r\\\\n<!-- album songlists end -->\\\\r\\\\n<div class=\"panel songlist-panel noprint\">\\\\r\\\\n\\\\t<div class=\"songinalbum_title\"><b>You May Also Like</b></div>\\\\r\\\\n\\\\t<div class=\"listalbum-item\"><a href=\"https://www.azlyrics.com/lyrics/10cc/imnotinlove.html\">10cc - \"I\\\\\\'m Not In Love\"</a> <small>I\\\\\\'m not in love\\\\nSo don\\\\\\'t forget it\\\\nIt\\\\\\'s just a silly phase I\\\\\\'m going through\\\\nAnd just because\\\\nI call you up\\\\nDon\\\\\\'t get me wrong, don\\\\\\'t think you\\\\\\'ve got it made\\\\nI\\\\\\'m not in love, no no, it\\\\\\'s because.....</small></div>\\\\n<div class=\"listalbum-item\"><a href=\"https://www.azlyrics.com/lyrics/foreigner/iwanttoknowwhatloveis.html\">Foreigner - \"I Want To Know What Love Is\"</a> <small>I gotta take a little time\\\\nA little time to think things over\\\\nI better read between the lines\\\\nIn case I need it when I\\\\\\'m older\\\\n\\\\nNow this mountain I must climb\\\\nFeels like a world upon my shoulders...</small></div>\\\\n<div class=\"listalbum-item\"><a href=\"https://www.azlyrics.com/lyrics/ledzeppelin/blackdog.html\">Led Zeppelin - \"Black Dog\"</a> <small>Hey, hey, mama, said the way you move\\\\nGonna make you sweat, gonna make you groove\\\\nAh, ah, child, way you shake that thing\\\\nGonna make you burn, gonna make you sting\\\\nHey, hey, baby, when you walk that...</small></div>\\\\n<div class=\"listalbum-item\"><a href=\"https://www.azlyrics.com/lyrics/deeppurple/smokeonthewater.html\">Deep Purple - \"Smoke On The Water\"</a> <small>We all came out to Montreux\\\\nOn the Lake Geneva shoreline\\\\nTo make records with a mobile\\\\nWe didn\\\\\\'t have much time\\\\nFrank Zappa and the Mothers\\\\nWere at the best place around\\\\nBut some stupid with a flare...</small></div>\\\\n<div class=\"listalbum-item\"><a href=\"https://www.azlyrics.com/lyrics/zztop/sharpdressedman.html\">ZZ Top - \"Sharp Dressed Man\"</a> <small>Clean shirt, new shoes\\\\nAnd I don\\\\\\'t know where I am goin\\\\\\' to\\\\nSilk suit, black tie\\\\nI don\\\\\\'t need a reason why\\\\n\\\\nThey come runnin\\\\\\' just as fast as they can\\\\n\\\\\\'Cause every girl\\\\\\'s crazy \\\\\\'bout a sharp-dressed...</small></div>\\\\n\\\\r\\\\n\\\\t</div>\\\\r\\\\n        <form class=\"search noprint\" method=\"get\" action=\"//search.azlyrics.com/search.php\" role=\"search\">\\\\r\\\\n         <div style=\"margin-bottom:15px\" class=\"input-group\">  \\\\r\\\\n\\\\t\\\\t<input type=\"text\" class=\"form-control\" placeholder=\"\" name=\"q\">\\\\r\\\\n       \\\\t\\\\t<span class=\"input-group-btn\">\\\\r\\\\n            \\\\t  <button class=\"btn btn-primary\" type=\"submit\"><span class=\"glyphicon glyphicon-search\"></span> Search</button>\\\\r\\\\n          \\\\t</span>\\\\r\\\\n \\\\t  </div>   \\\\r\\\\n\\\\t</form>\\\\r\\\\n\\\\r\\\\n<div class=\"noprint\" style=\"margin-top:5px;margin-bottom:5px\">\\\\r\\\\n</div>\\\\r\\\\n\\\\r\\\\n</div> <!-- content -->\\\\r\\\\n\\\\r\\\\n<div class=\"col-lg-2 text-center hidden-md hidden-sm hidden-xs noprint\">\\\\r\\\\n   <div class=\"sky-ad\"></div>\\\\r\\\\n</div>\\\\r\\\\n</div>\\\\r\\\\n</div>  <!-- container main-page -->\\\\r\\\\n\\\\r\\\\n<!-- nav bottom -->\\\\r\\\\n       <nav class=\"navbar navbar-default navbar-bottom\">\\\\r\\\\n          <div class=\"container text-center\">\\\\r\\\\n          <ul class=\"nav navbar-nav navbar-center\">\\\\r\\\\n            <li><a href=\"#\" onclick=\"submitAdded()\">Submit Lyrics</a></li>\\\\r\\\\n            <li><a href=\"//www.stlyrics.com\">Soundtracks</a></li>\\\\r\\\\n            <li><a href=\"//www.facebook.com/pages/AZLyricscom/154139197951223\">Facebook</a></li>\\\\r\\\\n            <li><a href=\"//www.azlyrics.com/contact.html\">Contact Us</a></li>\\\\r\\\\n          </ul>\\\\r\\\\n          </div> \\\\r\\\\n        </nav>\\\\r\\\\n\\\\r\\\\n<!-- footer -->\\\\r\\\\n     <nav class=\"navbar navbar-footer noprint\">\\\\r\\\\n          <div class=\"container text-center\">\\\\r\\\\n          <ul class=\"nav navbar-nav navbar-center\">\\\\r\\\\n            <li><a href=\"//www.azlyrics.com/adv.html\">Advertise Here</a></li>\\\\r\\\\n            <li><a href=\"//www.azlyrics.com/privacy.html\">Privacy Policy</a></li>\\\\r\\\\n            <li><a href=\"//www.azlyrics.com/cookie.html\">Cookie Policy</a></li>\\\\r\\\\n            <li><a href=\"//www.azlyrics.com/copyright.html\">DMCA Policy</a></li>\\\\r\\\\n          </ul>\\\\r\\\\n          </div> \\\\r\\\\n     </nav>\\\\r\\\\n     <div class=\"footer-wrap\">\\\\r\\\\n          <div class=\"container\">\\\\r\\\\n          <div class=\"noprint\"><span style=\"font-weight:bold;line-height:54px;vertical-align:top;\">Lyrics licensed by </span><img src=\"//www.azlyrics.com/images/mxm.png\" width=\"184\" height=\"54\" alt=\"MusixMatch\"></div>\\\\n          <small>\\\\r\\\\n             <script type=\"text/javascript\">\\\\r\\\\n                curdate=new Date();\\\\r\\\\n                document.write(\"<strong>Copyright &copy; 2000-\"+curdate.getFullYear()+\" AZLyrics.com<\\\\\\\\/strong>\");\\\\r\\\\n             </script>\\\\r\\\\n          </small>\\\\r\\\\n          </div>\\\\r\\\\n     </div>\\\\r\\\\n\\\\r\\\\n<script>\\\\r\\\\ncf_page_artist = ArtistName;\\\\r\\\\ncf_page_song = SongName;\\\\r\\\\ncf_page_genre = \"rock\";\\\\r\\\\ncf_no_bit = 0;\\\\r\\\\n</script>\\\\r\\\\n<script src=\"/local/anew.js\"></script>\\\\r\\\\n<script>\\\\r\\\\ncf_adunit_id = \"100004759\";\\\\r\\\\n</script>\\\\r\\\\n<script src=\"//srv.tunefindforfans.com/fruits/apricots.js\"></script>\\\\r\\\\n\\\\r\\\\n    <div id=\"CssFailCheck\" class=\"hidden\" style=\"height:1px;\"></div>\\\\r\\\\n    <script src=\"https://ajax.googleapis.com/ajax/libs/jquery/1.12.4/jquery.min.js\"></script>\\\\r\\\\n    <script>window.jQuery || document.write(\\\\\\'<script src=\"//www.azlyrics.com/local/jquery.min.js\"><\\\\\\\\/script>\\\\\\')</script>\\\\r\\\\n    <script>\\\\r\\\\n      $(function () {\\\\r\\\\n       if ($(\\\\\\'#CssFailCheck\\\\\\').is(\\\\\\':visible\\\\\\') === true) {\\\\r\\\\n         $(\\\\\\'<link rel=\"stylesheet\" type=\"text/css\" href=\"//www.azlyrics.com/bs/css/bootstrap.min.css\"><link rel=\"stylesheet\" href=\"//www.azlyrics.com/bsaz.css\">\\\\\\').appendTo(\\\\\\'head\\\\\\');\\\\r\\\\n       }\\\\r\\\\n      });\\\\r\\\\n    </script>\\\\r\\\\n    <script src=\"/local/az.js\"></script>\\\\r\\\\n    <script src=\"/geo.js\"></script>\\\\r\\\\n    <script type=\"text/javascript\" src=\"https://tracking.musixmatch.com/t1.0/m_js/e_0/sn_0/l_17713099/su_0/rs_0/tr_3vUCAF9Et8ujYX2sWbSi3S6EvN4yxqNHQeT9zstXuNPPfTwgZwESty6xTwY0i-qG4fwAFH7fjKXjCSF4KqAmw102S1q-LWreLpsKTBSCR8IJiK9jFXJgLd8ZEHmUHAzkYtrtqKnPSeXG_5zDDeKDZvwM-4nSa8FQrTa2y-17O9S2g2ep1fRAtCkI-CBYuf-ldAS1KoMJZvbpHW16EFxe9JpVV9faqNhyEEW4PzgokC7-rfyrFOj-GnmbbCR0WEwarR48ha_An-Io7uFwvTMBSUCzwMHbKTvoH2RmE-VXW3iTDMoOga08eCmgb3rZeNdZcSUPHmLQNKFDgXHExTGnkzgeKy3uiGhPYCegjMmg_uT-VMUh2-UbOJFrcuX4Yq2vLbVrHO5pdkvSPS8x9YJco2pps8m5N4uUJccw4nh8OMWkJI0lDI9VUr1qhBnMU6ad88k/\"></script>\\\\n  </body>\\\\r\\\\n</html>\\\\r\\\\n\\'']"
      ]
     },
     "execution_count": 11,
     "metadata": {},
     "output_type": "execute_result"
    }
   ],
   "source": [
    "split"
   ]
  },
  {
   "cell_type": "code",
   "execution_count": 12,
   "metadata": {},
   "outputs": [],
   "source": [
    "# Separamos los elementos div\n",
    "split_html = split[1]\n",
    "split = split_html.split('</div>',1)\n",
    "lyrics = split[0]"
   ]
  },
  {
   "cell_type": "code",
   "execution_count": 13,
   "metadata": {},
   "outputs": [
    {
     "data": {
      "text/plain": [
       "\"\\\\r\\\\nBuddy you\\\\'re a boy make a big noise<br>\\\\nPlayin\\\\' in the street gonna be a big man some day<br>\\\\nYou got mud on yo\\\\' face<br>\\\\nYou big disgrace<br>\\\\nKickin\\\\' your can all over the place<br>\\\\nSingin\\\\'<br>\\\\n<br>\\\\nWe will we will rock you<br>\\\\nWe will we will rock you<br>\\\\n<br>\\\\nBuddy you\\\\'re a young man hard man<br>\\\\nShoutin\\\\' in the street gonna take on the world some day<br>\\\\nYou got blood on yo\\\\' face<br>\\\\nYou big disgrace<br>\\\\nWavin\\\\' your banner all over the place<br>\\\\n<br>\\\\nWe will we will rock you<br>\\\\n(Sing it out!)<br>\\\\nWe will we will rock you<br>\\\\n<br>\\\\nBuddy you\\\\'re an old man poor man<br>\\\\nPleadin\\\\' with your eyes gonna make you some peace some day<br>\\\\nYou got mud on your face<br>\\\\nBig disgrace<br>\\\\nSomebody better put you back into your place<br>\\\\n<br>\\\\nWe will we will rock you<br>\\\\n(Sing it!)<br>\\\\nWe will we will rock you<br>\\\\n<br>\\\\n(Everybody)<br>\\\\n<br>\\\\nWe will we will rock you<br>\\\\nWe will we will rock you<br>\\\\n<br>\\\\n(Alright)\\\\n\""
      ]
     },
     "execution_count": 13,
     "metadata": {},
     "output_type": "execute_result"
    }
   ],
   "source": [
    "lyrics"
   ]
  },
  {
   "cell_type": "code",
   "execution_count": 14,
   "metadata": {},
   "outputs": [],
   "source": [
    "# Hacemos algo de calidad de los datos :P\n",
    "lyrics = lyrics.replace('\\\\', '')\n",
    "lyrics = lyrics.replace('\\nn', '\\n')\n",
    "lyrics = lyrics.replace('<i>', '')\n",
    "lyrics = lyrics.replace('</i>', '')\n",
    "lyrics = lyrics.replace('[Chorus]', '')"
   ]
  },
  {
   "cell_type": "code",
   "execution_count": 15,
   "metadata": {},
   "outputs": [
    {
     "data": {
      "text/plain": [
       "\"rnBuddy you're a boy make a big noise<br>nPlayin' in the street gonna be a big man some day<br>nYou got mud on yo' face<br>nYou big disgrace<br>nKickin' your can all over the place<br>nSingin'<br>n<br>nWe will we will rock you<br>nWe will we will rock you<br>n<br>nBuddy you're a young man hard man<br>nShoutin' in the street gonna take on the world some day<br>nYou got blood on yo' face<br>nYou big disgrace<br>nWavin' your banner all over the place<br>n<br>nWe will we will rock you<br>n(Sing it out!)<br>nWe will we will rock you<br>n<br>nBuddy you're an old man poor man<br>nPleadin' with your eyes gonna make you some peace some day<br>nYou got mud on your face<br>nBig disgrace<br>nSomebody better put you back into your place<br>n<br>nWe will we will rock you<br>n(Sing it!)<br>nWe will we will rock you<br>n<br>n(Everybody)<br>n<br>nWe will we will rock you<br>nWe will we will rock you<br>n<br>n(Alright)n\""
      ]
     },
     "execution_count": 15,
     "metadata": {},
     "output_type": "execute_result"
    }
   ],
   "source": [
    "lyrics"
   ]
  },
  {
   "cell_type": "code",
   "execution_count": 16,
   "metadata": {},
   "outputs": [],
   "source": [
    "for x in songLinks:\n",
    "    songHtml = urllib.request.urlopen(x)\n",
    "    songHtmlStr = str(songHtml.read()) \n",
    "    split = songHtmlStr.split('content by any third-party lyrics provider is prohibited by our licensing agreement. Sorry about that. -->',1)\n",
    "    splitHtml = split[1]\n",
    "    split = splitHtml.split('</div>',1)\n",
    "    lyrics = split[0]\n",
    "    lyrics = lyrics.replace('<br>', '\\n')\n",
    "    lyrics = lyrics.replace('\\\\', '')\n",
    "    lyrics = lyrics.replace('\\nn', '\\n')\n",
    "    lyrics = lyrics.replace('<i>', '')\n",
    "    lyrics = lyrics.replace('</i>', '')\n",
    "    lyrics = lyrics.replace('[Chorus]', '')\n",
    "    originalLyrics.write(lyrics)\n",
    "originalLyrics.close()"
   ]
  },
  {
   "cell_type": "code",
   "execution_count": 17,
   "metadata": {},
   "outputs": [],
   "source": [
    "# Comenzamos a generar nuevas letras\n",
    "generatedlyrics = ()\n",
    "file = open('lyrics.txt', 'r')\n",
    "text = file.read()"
   ]
  },
  {
   "cell_type": "code",
   "execution_count": 18,
   "metadata": {},
   "outputs": [],
   "source": [
    "# Pasamos el contenido a Markovfy para generar el modelo\n",
    "markovifyTextModel = markovify.Text(text)"
   ]
  },
  {
   "cell_type": "code",
   "execution_count": 21,
   "metadata": {},
   "outputs": [],
   "source": [
    "# Usamos el modelo para generar una frase\n",
    "generatedlyrics = markovifyTextModel.make_sentence()"
   ]
  },
  {
   "cell_type": "code",
   "execution_count": 22,
   "metadata": {},
   "outputs": [
    {
     "data": {
      "text/plain": [
       "\"Why can't we give ourselves one more chance?\""
      ]
     },
     "execution_count": 22,
     "metadata": {},
     "output_type": "execute_result"
    }
   ],
   "source": [
    "# Voila !!!\n",
    "generatedlyrics"
   ]
  }
 ],
 "metadata": {
  "kernelspec": {
   "display_name": "irc_ai",
   "language": "python",
   "name": "python3"
  },
  "language_info": {
   "codemirror_mode": {
    "name": "ipython",
    "version": 3
   },
   "file_extension": ".py",
   "mimetype": "text/x-python",
   "name": "python",
   "nbconvert_exporter": "python",
   "pygments_lexer": "ipython3",
   "version": "3.11.5"
  },
  "orig_nbformat": 4
 },
 "nbformat": 4,
 "nbformat_minor": 2
}
