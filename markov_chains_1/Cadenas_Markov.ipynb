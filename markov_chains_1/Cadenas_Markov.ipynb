{
 "cells": [
  {
   "cell_type": "markdown",
   "metadata": {},
   "source": [
    "# Cadenas de Markov en Python"
   ]
  },
  {
   "cell_type": "markdown",
   "metadata": {},
   "source": [
    "$ Pr( X_{n+1} = x | X_1 = x_1, X_2 = x_2, …, X_n = x_n) = Pr( X_{n+1} = x | X_n = x_n) $\n",
    "\n",
    "- El conjunto de sucesos posibles es finito\n",
    "- La probabilidad de ocurrencia del siguiente suceso depende solamente del suceso inmediatamente anterior.\n",
    "- Estas probabilidades permanecen constantes con el tiempo.\n",
    "\n",
    "\n",
    "Por la regla de la cadena de la probabilidad, podemos representarla sobre $ T $ variables como sigue:\n",
    "\n",
    "$$\n",
    "p(y_1:T) = p(y_1)p(y_2|y_1)p(y_3|y_2,y_1)p(y_4|y_3,y_2,y_1)...\\prod_{t=1}^{T} p(y_t|y_1:t-1)\n",
    "$$\n",
    "\n",
    "Tambien son conocidas como modelo de Markov ó modelo autoregresivo.\n",
    "Entre sus aplicaciones se encuentran los **LM** (Language Models)"
   ]
  },
  {
   "cell_type": "markdown",
   "metadata": {},
   "source": [
    "## Propiedades importantes\n",
    "\n",
    "- Reducibilidad\n",
    "- Periodicidad\n",
    "- Transitoriedad y recurrencia\n",
    "- Ergodicidad\n",
    "- Estado absorbente"
   ]
  },
  {
   "cell_type": "markdown",
   "metadata": {},
   "source": [
    "## Datos de vital importancia\n",
    "\n",
    "Representamos la información de los estados del tiempo $ n $ al tiempo $ n + 1 $ usando la matriz de transiccón.\n",
    "\n",
    "Si la cadena de markov tiene N posibles estados, la matriz sera una de $ N x N $, tal que la entrada (**I**, **J**) es la probabilidad de pasar del estado **I** al estado **J**. \n",
    "\n",
    "Además la matriz de transicción debe ser estocástica, es decir que la suma de cada fila debe de dar 1."
   ]
  },
  {
   "cell_type": "markdown",
   "metadata": {},
   "source": [
    "## Manos a la obra\n",
    "\n",
    "![alt](https://media.tenor.com/N-nifFitc54AAAAd/los-increibles-mr-incredible.gif)"
   ]
  },
  {
   "cell_type": "code",
   "execution_count": null,
   "metadata": {},
   "outputs": [],
   "source": [
    "# Importar las librerias\n",
    "\n",
    "import numpy as np\n",
    "import random as rm\n",
    "import pandas as pd"
   ]
  },
  {
   "cell_type": "markdown",
   "metadata": {},
   "source": [
    "### Ejemplo 1\n",
    "\n",
    "Cuando Zura está triste, lo cual no es muy habitual: sale a correr, come helado o se echa una siesta.\n",
    "\n",
    "Según datos históricos, si ella pasó durmiendo en un día triste. Al día siguiente, hay un 60% de probabilidad de que salga a correr, un 20% de probabilidad de que se quede en la cama al día siguiente y un 20% de probabilidad de que se coma un helado.\n",
    "\n",
    "Cuando está triste y sale a correr, hay un 60% de posibilidad de que salga a correr al día siguiente, un 30% de que coma de helado y solo un 10% de posibilidad de que se la pase durmiendo al día siguiente.\n",
    "\n",
    "Finalmente, cuando se da el gusto de comer helado en un día triste, hay sólo un 10% de probabilidad de que siga comiendo helado también al día siguiente, un 70% de probabilidad de que salga a correr y un 20% de probabilidad de que se la pase durmiendo al día siguiente.\n",
    "\n",
    "![alt](./imagen_diagrama.png)"
   ]
  },
  {
   "cell_type": "markdown",
   "metadata": {},
   "source": [
    "**Estado Actual / Siguiente estado**\n",
    "\n",
    "<table>\n",
    "    <thead>\n",
    "        <tr>\n",
    "            <th></th>\n",
    "            <th>Dormir</th>\n",
    "            <th>Correr</th>\n",
    "            <th>Comer Helado</th>\n",
    "        </tr>\n",
    "    </thead>\n",
    "    <tbody>\n",
    "        <tr>\n",
    "            <td>Dormir</td>\n",
    "            <td>0.2</td>\n",
    "            <td>0.6</td>\n",
    "            <td>0.2</td>\n",
    "        </tr>\n",
    "        <tr>\n",
    "            <td>Correr</td>\n",
    "            <td>0.1</td>\n",
    "            <td>0.6</td>\n",
    "            <td>0.3</td>\n",
    "        </tr>\n",
    "        <tr>\n",
    "            <td>Comer Helado</td>\n",
    "            <td>0.2</td>\n",
    "            <td>0.7</td>\n",
    "            <td>0.1</td>\n",
    "        </tr>\n",
    "    </tbody>\n",
    "</table>\n",
    "\n",
    "\n",
    "\n",
    "$$\n",
    "\\begin{bmatrix}\n",
    "0.2 & 0.6 & 0.2 \\\\\n",
    "0.1 & 0.6 & 0.3 \\\\\n",
    "0.2 & 0.7 & 0.1\n",
    "\\end{bmatrix}\n",
    "$$"
   ]
  },
  {
   "cell_type": "markdown",
   "metadata": {},
   "source": [
    "### Definimos los estados"
   ]
  },
  {
   "cell_type": "code",
   "execution_count": null,
   "metadata": {},
   "outputs": [],
   "source": [
    "# Espacio de estados\n",
    "estados = [\"Dormir\", \"Helado\", \"Correr\"]\n",
    "\n",
    "# Posible secuencia de eventos\n",
    "nombresTransicion = [[\"DD\", \"DC\", \"DH\"], [\"CD\", \"CC\", \"CH\"], [\"HD\", \"HC\", \"HH\"]]\n",
    "\n",
    "# Matrix de transicion\n",
    "matrizTransicion = np.array([[0.2,0.6,0.2], [0.1,0.6,0.3], [0.2,0.7,0.1]])\n"
   ]
  },
  {
   "cell_type": "code",
   "execution_count": null,
   "metadata": {},
   "outputs": [],
   "source": [
    "# Solo a modo de ver la matriz de transacción\n",
    "pd.DataFrame(matrizTransicion, columns=estados, index=estados)"
   ]
  },
  {
   "cell_type": "code",
   "execution_count": null,
   "metadata": {},
   "outputs": [],
   "source": [
    "# Debemos asegurar que la suma de las probabilidades de 1\n",
    "if sum(matrizTransicion[0])+sum(matrizTransicion[1])+sum(matrizTransicion[2]) != 3:\n",
    "    print(\"Ups algo raro paso, debe ser culpa de los rusos\")\n",
    "else: print(\"Todo esta Ok, continuemos!! ;)\")\n"
   ]
  },
  {
   "cell_type": "code",
   "execution_count": null,
   "metadata": {},
   "outputs": [],
   "source": [
    "# Validar que la suma de las filas de 1\n",
    "np.sum(matrizTransicion, axis=1)"
   ]
  },
  {
   "cell_type": "markdown",
   "metadata": {},
   "source": [
    "### Implementado el modelo de Markov\n"
   ]
  },
  {
   "cell_type": "code",
   "execution_count": null,
   "metadata": {},
   "outputs": [],
   "source": [
    "def pronosticar_actividad(ndias):\n",
    "    # Elegimos el estado inicial\n",
    "    actividadInicial = \"Dormir\"\n",
    "    print(\"Estado inicial: \" + actividadInicial)\n",
    "    # Esta lista almacenara la secuencia de estados tomados, así que inicio tendra el estado inicial.\n",
    "    listadoActividades = [actividadInicial]\n",
    "    i = 0\n",
    "    # Calcula la probabilidad de listadoActividades\n",
    "    prob = 1\n",
    "    while i != ndias:\n",
    "        if actividadInicial == \"Dormir\":\n",
    "            cambio = np.random.choice(nombresTransicion[0], replace=True, p=matrizTransicion[0])\n",
    "            if cambio == \"DD\":\n",
    "                prob = prob * 0.2\n",
    "                listadoActividades.append(\"Dormir\")\n",
    "                pass\n",
    "            elif cambio == \"DC\":\n",
    "                prob = prob * 0.6\n",
    "                actividadInicial = \"Correr\"\n",
    "                listadoActividades.append(\"Correr\")\n",
    "            else:\n",
    "                prob = prob * 0.2\n",
    "                actividadInicial = \"Helado\"\n",
    "                listadoActividades.append(\"Helado\")\n",
    "        elif actividadInicial == \"Correr\":\n",
    "            cambio = np.random.choice(nombresTransicion[1],replace=True,p=matrizTransicion[1])\n",
    "            if cambio == \"CC\":\n",
    "                prob = prob * 0.5\n",
    "                listadoActividades.append(\"Correr\")\n",
    "                pass\n",
    "            elif cambio == \"CD\":\n",
    "                prob = prob * 0.2\n",
    "                actividadInicial = \"Dormir\"\n",
    "                listadoActividades.append(\"Sleep\")\n",
    "            else:\n",
    "                prob = prob * 0.3\n",
    "                actividadInicial = \"Helado\"\n",
    "                listadoActividades.append(\"Helado\")\n",
    "        elif actividadInicial == \"Helado\":\n",
    "            cambio = np.random.choice(nombresTransicion[2],replace=True,p=matrizTransicion[2])\n",
    "            if cambio == \"HH\":\n",
    "                prob = prob * 0.1\n",
    "                listadoActividades.append(\"Helado\")\n",
    "                pass\n",
    "            elif cambio == \"HD\":\n",
    "                prob = prob * 0.2\n",
    "                actividadInicial = \"Dormir\"\n",
    "                listadoActividades.append(\"Dormir\")\n",
    "            else:\n",
    "                prob = prob * 0.7\n",
    "                actividadInicial = \"Correr\"\n",
    "                listadoActividades.append(\"Correr\")\n",
    "        i += 1\n",
    "    print(\"Possibles estados: \" + str(listadoActividades))\n",
    "    print(\"Estado final despues de \"+ str(ndias) + \" dias: \" + actividadInicial)\n",
    "    print(\"Probabilidad de la secuencia de estados posibles: \" + str(prob))\n"
   ]
  },
  {
   "cell_type": "code",
   "execution_count": null,
   "metadata": {},
   "outputs": [],
   "source": [
    "# Pronosticamos para 2 dias\n",
    "pronosticar_actividad(2)"
   ]
  },
  {
   "cell_type": "markdown",
   "metadata": {},
   "source": [
    "## Ejemplo 2\n",
    "\n",
    "![alt](https://www.researchgate.net/profile/Michael-Muskulus/publication/330360197/figure/fig1/AS:715184796606464@1547524751070/An-example-of-a-Markov-chain-displayed-as-both-a-state-diagram-left-and-a-matrix-with.png)"
   ]
  },
  {
   "cell_type": "code",
   "execution_count": null,
   "metadata": {},
   "outputs": [],
   "source": [
    "class MarkovChain(object):\n",
    "    def __init__(self, transition_prob):\n",
    "        \"\"\"\n",
    "        Iniciamos la instancia de la clase MarkovChain\n",
    "\n",
    "        Parameters\n",
    "        ----------\n",
    "        transition_prob: dict\n",
    "            Objeto diccionario que representa la transicipon de las probabilidades en\n",
    "            la cadena de markov. Debera ser de la forma {'estado_1': {'estado_1': \n",
    "            0.1, 'estado_2': 0.4}, 'estado_2': {...}}\n",
    "        \"\"\"\n",
    "        self.transition_prob = transition_prob\n",
    "        self.states = list(transition_prob.keys())\n",
    "\n",
    "    def next_state(self, current_state):\n",
    "        \"\"\"\n",
    "        Regresa el estado de la variable aleatoria (rv = random variable) para la siguientes\n",
    "        instancia de tiempo.\n",
    "\n",
    "        Parameters\n",
    "        ----------\n",
    "        current_state: str\n",
    "            Estado actual de la rv en el sistema.\n",
    "        \"\"\"\n",
    "        return np.random.choice(\n",
    "            self.states, p=[self.transition_prob[current_state][next_state]\n",
    "                            for next_state in self.states])\n",
    "\n",
    "    def generate_states(self, current_state, no=10):\n",
    "        \"\"\"\n",
    "        Genera el siguiente estado en el sistema.\n",
    "\n",
    "        Parameters\n",
    "        ----------\n",
    "        current_state: str\n",
    "            El estado actual de la variable aleatoria.\n",
    "\n",
    "        no: int\n",
    "            Númer de futuros estados a generar.\n",
    "        \"\"\"\n",
    "        future_states = []\n",
    "        for i in range(no):\n",
    "            next_state = self.next_state(current_state)\n",
    "            future_states.append(next_state)\n",
    "            current_state = next_state\n",
    "        return future_states\n",
    "\n",
    "transition_prob = {\n",
    "    'Sunny': {'Sunny': 0.8, 'Rainy': 0.19, 'Snowy': 0.01},\n",
    "    'Rainy': {'Sunny': 0.2, 'Rainy': 0.7, 'Snowy': 0.1},\n",
    "    'Snowy': {'Sunny': 0.1, 'Rainy': 0.2, 'Snowy': 0.7}\n",
    "}\n",
    "\n",
    "\n",
    "weather_chain = MarkovChain(transition_prob=transition_prob)\n",
    "weather_chain.next_state(current_state='Sunny')\n",
    "# weather_chain.next_state(current_state='Rainy')\n",
    "weather_chain.generate_states(current_state='Rainy', no=10)\n"
   ]
  },
  {
   "cell_type": "code",
   "execution_count": null,
   "metadata": {},
   "outputs": [],
   "source": [
    "transition_prob = {\n",
    "    'clouds': {'clouds': 0.4, 'rain': 0.3, 'sun': 0.3},\n",
    "    'rain': {'clouds': 0.5, 'rain': 0.3, 'sun': 0.2},\n",
    "    'sun': {'clouds': 0.5, 'rain': 0.1, 'sun': 0.4}\n",
    "}"
   ]
  },
  {
   "cell_type": "code",
   "execution_count": null,
   "metadata": {},
   "outputs": [],
   "source": [
    "weather_chain = MarkovChain(transition_prob=transition_prob)\n",
    "weather_chain.next_state(current_state='clouds')\n",
    "weather_chain.next_state(current_state='sun')\n",
    "weather_chain.generate_states(current_state='sun', no=10)"
   ]
  },
  {
   "cell_type": "markdown",
   "metadata": {},
   "source": [
    "## Ejemplo 3"
   ]
  },
  {
   "cell_type": "code",
   "execution_count": null,
   "metadata": {},
   "outputs": [],
   "source": [
    "# Necesitamos instalar markovify \n",
    "!pip install markovify"
   ]
  },
  {
   "cell_type": "code",
   "execution_count": null,
   "metadata": {},
   "outputs": [],
   "source": [
    "# Paso 1\n",
    "import re\n",
    "import urllib\n",
    "import markovify"
   ]
  },
  {
   "cell_type": "code",
   "execution_count": null,
   "metadata": {},
   "outputs": [],
   "source": [
    "# Paso 2 - Crear un archivo para que markovify lo lea y escriba\n",
    "originalLyrics = open('lyrics.txt', 'w')"
   ]
  },
  {
   "cell_type": "code",
   "execution_count": null,
   "metadata": {},
   "outputs": [],
   "source": [
    "# Paso 3 - Haremos un poco de scrapping\n",
    "\n",
    "url = \"https://search.azlyrics.com/search.php?q=Queen&x=56ef8bf517f5fb222b5e235d0457e5a69c012096f73150e3d380b07057997224\"\n",
    "artistHtml = urllib.request.urlopen(url)\n",
    "artistHtmlStr = str(artistHtml.read())\n",
    "\n",
    "links = re.findall('href=\"([^\"]+)\"', artistHtmlStr)"
   ]
  },
  {
   "cell_type": "code",
   "execution_count": null,
   "metadata": {},
   "outputs": [],
   "source": [
    "print(links)"
   ]
  },
  {
   "cell_type": "code",
   "execution_count": null,
   "metadata": {},
   "outputs": [],
   "source": [
    "# Creamos una lista para mantener los links hacia las letras\n",
    "songLinks = []"
   ]
  },
  {
   "cell_type": "code",
   "execution_count": null,
   "metadata": {},
   "outputs": [],
   "source": [
    "for x in links:\n",
    "    if \"lyrics/queen\" in x:\n",
    "        songLinks.append(x)"
   ]
  },
  {
   "cell_type": "code",
   "execution_count": null,
   "metadata": {},
   "outputs": [],
   "source": [
    "print(songLinks)"
   ]
  },
  {
   "cell_type": "code",
   "execution_count": null,
   "metadata": {},
   "outputs": [],
   "source": [
    "# Scrapear las letras de las canciones\n",
    "for x in songLinks:\n",
    "    songHtml = urllib.request.urlopen(x)\n",
    "    songHtmlStr = str(songHtml.read())"
   ]
  },
  {
   "cell_type": "code",
   "execution_count": null,
   "metadata": {},
   "outputs": [],
   "source": [
    "split = songHtmlStr.split('content by any third-party lyrics provider is prohibited by our licensing agreement. Sorry about that. -->',1)"
   ]
  },
  {
   "cell_type": "code",
   "execution_count": null,
   "metadata": {},
   "outputs": [],
   "source": [
    "split"
   ]
  },
  {
   "cell_type": "code",
   "execution_count": null,
   "metadata": {},
   "outputs": [],
   "source": [
    "# Separamos los elementos div\n",
    "split_html = split[1]\n",
    "split = split_html.split('</div>',1)\n",
    "lyrics = split[0]"
   ]
  },
  {
   "cell_type": "code",
   "execution_count": null,
   "metadata": {},
   "outputs": [],
   "source": [
    "lyrics"
   ]
  },
  {
   "cell_type": "code",
   "execution_count": null,
   "metadata": {},
   "outputs": [],
   "source": [
    "# Hacemos algo de calidad de los datos :P\n",
    "lyrics = lyrics.replace('\\\\', '')\n",
    "lyrics = lyrics.replace('\\nn', '\\n')\n",
    "lyrics = lyrics.replace('<i>', '')\n",
    "lyrics = lyrics.replace('</i>', '')\n",
    "lyrics = lyrics.replace('[Chorus]', '')"
   ]
  },
  {
   "cell_type": "code",
   "execution_count": null,
   "metadata": {},
   "outputs": [],
   "source": [
    "for x in songLinks:\n",
    "    songHtml = urllib.request.urlopen(x)\n",
    "    songHtmlStr = str(songHtml.read()) \n",
    "    split = songHtmlStr.split('content by any third-party lyrics provider is prohibited by our licensing agreement. Sorry about that. -->',1)\n",
    "    splitHtml = split[1]\n",
    "    split = splitHtml.split('</div>',1)\n",
    "    lyrics = split[0]\n",
    "    lyrics = lyrics.replace('<br>', '\\n')\n",
    "    lyrics = lyrics.replace('\\\\', '')\n",
    "    lyrics = lyrics.replace('\\nn', '\\n')\n",
    "    lyrics = lyrics.replace('<i>', '')\n",
    "    lyrics = lyrics.replace('</i>', '')\n",
    "    lyrics = lyrics.replace('[Chorus]', '')\n",
    "    originalLyrics.write(lyrics)\n",
    "originalLyrics.close()"
   ]
  },
  {
   "cell_type": "code",
   "execution_count": null,
   "metadata": {},
   "outputs": [],
   "source": [
    "# Comenzamos a generar nuevas letras\n",
    "generatedlyrics = ()\n",
    "file = open('lyrics.txt', 'r')\n",
    "text = file.read()"
   ]
  },
  {
   "cell_type": "code",
   "execution_count": null,
   "metadata": {},
   "outputs": [],
   "source": [
    "# Pasamos el contenido a Markovfy para generar el modelo\n",
    "markovifyTextModel = markovify.Text(text)"
   ]
  },
  {
   "cell_type": "code",
   "execution_count": null,
   "metadata": {},
   "outputs": [],
   "source": [
    "# Usamos el modelo para generar una frase\n",
    "generatedlyrics = markovifyTextModel.make_sentence()"
   ]
  },
  {
   "cell_type": "code",
   "execution_count": null,
   "metadata": {},
   "outputs": [],
   "source": [
    "generatedlyrics"
   ]
  }
 ],
 "metadata": {
  "kernelspec": {
   "display_name": "irc_ai",
   "language": "python",
   "name": "python3"
  },
  "language_info": {
   "codemirror_mode": {
    "name": "ipython",
    "version": 3
   },
   "file_extension": ".py",
   "mimetype": "text/x-python",
   "name": "python",
   "nbconvert_exporter": "python",
   "pygments_lexer": "ipython3",
   "version": "3.11.5"
  },
  "orig_nbformat": 4
 },
 "nbformat": 4,
 "nbformat_minor": 2
}
